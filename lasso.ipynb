{
 "cells": [
  {
   "cell_type": "markdown",
   "metadata": {},
   "source": [
    "In this notebook, you will use LASSO to select features, building on a pre-implemented solver for LASSO (using GraphLab Create, though you can use other solvers). You will:\n",
    "* Run LASSO with different L1 penalties.\n",
    "* Choose best L1 penalty using a validation set.\n",
    "* Choose best L1 penalty using a validation set, with additional constraint on the size of subset.\n",
    "\n",
    "In the second notebook, you will implement your own LASSO solver, using coordinate descent. "
   ]
  },
  {
   "cell_type": "markdown",
   "metadata": {},
   "source": [
    "# Fire up Graphlab Create"
   ]
  },
  {
   "cell_type": "code",
   "execution_count": 2,
   "metadata": {
    "collapsed": true
   },
   "outputs": [],
   "source": [
    "import graphlab"
   ]
  },
  {
   "cell_type": "markdown",
   "metadata": {},
   "source": [
    "# Load in house sales data\n",
    "\n",
    "Dataset is from house sales in King County, the region where the city of Seattle, WA is located."
   ]
  },
  {
   "cell_type": "code",
   "execution_count": 3,
   "metadata": {
    "collapsed": false,
    "scrolled": true
   },
   "outputs": [
    {
     "name": "stderr",
     "output_type": "stream",
     "text": [
      "[INFO] graphlab.cython.cy_server: GraphLab Create v2.1 started. Logging: /tmp/graphlab_server_1486732596.log\n"
     ]
    },
    {
     "name": "stdout",
     "output_type": "stream",
     "text": [
      "This non-commercial license of GraphLab Create for academic use is assigned to herreramachado@gmail.com and will expire on January 24, 2018.\n"
     ]
    }
   ],
   "source": [
    "sales = graphlab.SFrame('kc_house_data.gl/')"
   ]
  },
  {
   "cell_type": "markdown",
   "metadata": {},
   "source": [
    "# Create new features"
   ]
  },
  {
   "cell_type": "markdown",
   "metadata": {},
   "source": [
    "As in Week 2, we consider features that are some transformations of inputs."
   ]
  },
  {
   "cell_type": "code",
   "execution_count": 4,
   "metadata": {
    "collapsed": true
   },
   "outputs": [],
   "source": [
    "from math import log, sqrt\n",
    "sales['sqft_living_sqrt'] = sales['sqft_living'].apply(sqrt)\n",
    "sales['sqft_lot_sqrt'] = sales['sqft_lot'].apply(sqrt)\n",
    "sales['bedrooms_square'] = sales['bedrooms']*sales['bedrooms']\n",
    "\n",
    "# In the dataset, 'floors' was defined with type string, \n",
    "# so we'll convert them to float, before creating a new feature.\n",
    "sales['floors'] = sales['floors'].astype(float) \n",
    "sales['floors_square'] = sales['floors']*sales['floors']"
   ]
  },
  {
   "cell_type": "markdown",
   "metadata": {},
   "source": [
    "* Squaring bedrooms will increase the separation between not many bedrooms (e.g. 1) and lots of bedrooms (e.g. 4) since 1^2 = 1 but 4^2 = 16. Consequently this variable will mostly affect houses with many bedrooms.\n",
    "* On the other hand, taking square root of sqft_living will decrease the separation between big house and small house. The owner may not be exactly twice as happy for getting a house that is twice as big."
   ]
  },
  {
   "cell_type": "markdown",
   "metadata": {},
   "source": [
    "# Learn regression weights with L1 penalty"
   ]
  },
  {
   "cell_type": "markdown",
   "metadata": {},
   "source": [
    "Let us fit a model with all the features available, plus the features we just created above."
   ]
  },
  {
   "cell_type": "code",
   "execution_count": 5,
   "metadata": {
    "collapsed": false
   },
   "outputs": [],
   "source": [
    "all_features = ['bedrooms', 'bedrooms_square',\n",
    "            'bathrooms',\n",
    "            'sqft_living', 'sqft_living_sqrt',\n",
    "            'sqft_lot', 'sqft_lot_sqrt',\n",
    "            'floors', 'floors_square',\n",
    "            'waterfront', 'view', 'condition', 'grade',\n",
    "            'sqft_above',\n",
    "            'sqft_basement',\n",
    "            'yr_built', 'yr_renovated']"
   ]
  },
  {
   "cell_type": "markdown",
   "metadata": {},
   "source": [
    "Applying L1 penalty requires adding an extra parameter (`l1_penalty`) to the linear regression call in GraphLab Create. (Other tools may have separate implementations of LASSO.)  Note that it's important to set `l2_penalty=0` to ensure we don't introduce an additional L2 penalty."
   ]
  },
  {
   "cell_type": "code",
   "execution_count": 6,
   "metadata": {
    "collapsed": false
   },
   "outputs": [
    {
     "data": {
      "text/html": [
       "<pre>Linear regression:</pre>"
      ],
      "text/plain": [
       "Linear regression:"
      ]
     },
     "metadata": {},
     "output_type": "display_data"
    },
    {
     "data": {
      "text/html": [
       "<pre>--------------------------------------------------------</pre>"
      ],
      "text/plain": [
       "--------------------------------------------------------"
      ]
     },
     "metadata": {},
     "output_type": "display_data"
    },
    {
     "data": {
      "text/html": [
       "<pre>Number of examples          : 21613</pre>"
      ],
      "text/plain": [
       "Number of examples          : 21613"
      ]
     },
     "metadata": {},
     "output_type": "display_data"
    },
    {
     "data": {
      "text/html": [
       "<pre>Number of features          : 17</pre>"
      ],
      "text/plain": [
       "Number of features          : 17"
      ]
     },
     "metadata": {},
     "output_type": "display_data"
    },
    {
     "data": {
      "text/html": [
       "<pre>Number of unpacked features : 17</pre>"
      ],
      "text/plain": [
       "Number of unpacked features : 17"
      ]
     },
     "metadata": {},
     "output_type": "display_data"
    },
    {
     "data": {
      "text/html": [
       "<pre>Number of coefficients    : 18</pre>"
      ],
      "text/plain": [
       "Number of coefficients    : 18"
      ]
     },
     "metadata": {},
     "output_type": "display_data"
    },
    {
     "data": {
      "text/html": [
       "<pre>Starting Accelerated Gradient (FISTA)</pre>"
      ],
      "text/plain": [
       "Starting Accelerated Gradient (FISTA)"
      ]
     },
     "metadata": {},
     "output_type": "display_data"
    },
    {
     "data": {
      "text/html": [
       "<pre>--------------------------------------------------------</pre>"
      ],
      "text/plain": [
       "--------------------------------------------------------"
      ]
     },
     "metadata": {},
     "output_type": "display_data"
    },
    {
     "data": {
      "text/html": [
       "<pre>+-----------+----------+-----------+--------------+--------------------+---------------+</pre>"
      ],
      "text/plain": [
       "+-----------+----------+-----------+--------------+--------------------+---------------+"
      ]
     },
     "metadata": {},
     "output_type": "display_data"
    },
    {
     "data": {
      "text/html": [
       "<pre>| Iteration | Passes   | Step size | Elapsed Time | Training-max_error | Training-rmse |</pre>"
      ],
      "text/plain": [
       "| Iteration | Passes   | Step size | Elapsed Time | Training-max_error | Training-rmse |"
      ]
     },
     "metadata": {},
     "output_type": "display_data"
    },
    {
     "data": {
      "text/html": [
       "<pre>+-----------+----------+-----------+--------------+--------------------+---------------+</pre>"
      ],
      "text/plain": [
       "+-----------+----------+-----------+--------------+--------------------+---------------+"
      ]
     },
     "metadata": {},
     "output_type": "display_data"
    },
    {
     "data": {
      "text/html": [
       "<pre>Tuning step size. First iteration could take longer than subsequent iterations.</pre>"
      ],
      "text/plain": [
       "Tuning step size. First iteration could take longer than subsequent iterations."
      ]
     },
     "metadata": {},
     "output_type": "display_data"
    },
    {
     "data": {
      "text/html": [
       "<pre>| 1         | 2        | 0.000002  | 1.769261     | 6962915.603493     | 426631.749026 |</pre>"
      ],
      "text/plain": [
       "| 1         | 2        | 0.000002  | 1.769261     | 6962915.603493     | 426631.749026 |"
      ]
     },
     "metadata": {},
     "output_type": "display_data"
    },
    {
     "data": {
      "text/html": [
       "<pre>| 2         | 3        | 0.000002  | 1.864731     | 6843144.200219     | 392488.929838 |</pre>"
      ],
      "text/plain": [
       "| 2         | 3        | 0.000002  | 1.864731     | 6843144.200219     | 392488.929838 |"
      ]
     },
     "metadata": {},
     "output_type": "display_data"
    },
    {
     "data": {
      "text/html": [
       "<pre>| 3         | 4        | 0.000002  | 1.972507     | 6831900.032123     | 385340.166783 |</pre>"
      ],
      "text/plain": [
       "| 3         | 4        | 0.000002  | 1.972507     | 6831900.032123     | 385340.166783 |"
      ]
     },
     "metadata": {},
     "output_type": "display_data"
    },
    {
     "data": {
      "text/html": [
       "<pre>| 4         | 5        | 0.000002  | 2.066127     | 6847166.848958     | 384842.383767 |</pre>"
      ],
      "text/plain": [
       "| 4         | 5        | 0.000002  | 2.066127     | 6847166.848958     | 384842.383767 |"
      ]
     },
     "metadata": {},
     "output_type": "display_data"
    },
    {
     "data": {
      "text/html": [
       "<pre>| 5         | 6        | 0.000002  | 2.137591     | 6869667.895833     | 385998.458623 |</pre>"
      ],
      "text/plain": [
       "| 5         | 6        | 0.000002  | 2.137591     | 6869667.895833     | 385998.458623 |"
      ]
     },
     "metadata": {},
     "output_type": "display_data"
    },
    {
     "data": {
      "text/html": [
       "<pre>| 6         | 7        | 0.000002  | 2.206060     | 6847177.773672     | 380824.455891 |</pre>"
      ],
      "text/plain": [
       "| 6         | 7        | 0.000002  | 2.206060     | 6847177.773672     | 380824.455891 |"
      ]
     },
     "metadata": {},
     "output_type": "display_data"
    },
    {
     "data": {
      "text/html": [
       "<pre>+-----------+----------+-----------+--------------+--------------------+---------------+</pre>"
      ],
      "text/plain": [
       "+-----------+----------+-----------+--------------+--------------------+---------------+"
      ]
     },
     "metadata": {},
     "output_type": "display_data"
    },
    {
     "data": {
      "text/html": [
       "<pre>TERMINATED: Iteration limit reached.</pre>"
      ],
      "text/plain": [
       "TERMINATED: Iteration limit reached."
      ]
     },
     "metadata": {},
     "output_type": "display_data"
    },
    {
     "data": {
      "text/html": [
       "<pre>This model may not be optimal. To improve it, consider increasing `max_iterations`.</pre>"
      ],
      "text/plain": [
       "This model may not be optimal. To improve it, consider increasing `max_iterations`."
      ]
     },
     "metadata": {},
     "output_type": "display_data"
    }
   ],
   "source": [
    "model_all = graphlab.linear_regression.create(sales, target='price', features=all_features,\n",
    "                                              validation_set=None, \n",
    "                                              l2_penalty=0., l1_penalty=1e10)"
   ]
  },
  {
   "cell_type": "markdown",
   "metadata": {},
   "source": [
    "Find what features had non-zero weight."
   ]
  },
  {
   "cell_type": "code",
   "execution_count": 81,
   "metadata": {
    "collapsed": false
   },
   "outputs": [
    {
     "name": "stdout",
     "output_type": "stream",
     "text": [
      "+------------------+-------+---------------+--------+\n",
      "|       name       | index |     value     | stderr |\n",
      "+------------------+-------+---------------+--------+\n",
      "|   (intercept)    |  None |  274873.05595 |  None  |\n",
      "|     bedrooms     |  None |      0.0      |  None  |\n",
      "| bedrooms_square  |  None |      0.0      |  None  |\n",
      "|    bathrooms     |  None | 8468.53108691 |  None  |\n",
      "|   sqft_living    |  None | 24.4207209824 |  None  |\n",
      "| sqft_living_sqrt |  None | 350.060553386 |  None  |\n",
      "|     sqft_lot     |  None |      0.0      |  None  |\n",
      "|  sqft_lot_sqrt   |  None |      0.0      |  None  |\n",
      "|      floors      |  None |      0.0      |  None  |\n",
      "|  floors_square   |  None |      0.0      |  None  |\n",
      "|    waterfront    |  None |      0.0      |  None  |\n",
      "|       view       |  None |      0.0      |  None  |\n",
      "|    condition     |  None |      0.0      |  None  |\n",
      "|      grade       |  None | 842.068034898 |  None  |\n",
      "|    sqft_above    |  None | 20.0247224171 |  None  |\n",
      "|  sqft_basement   |  None |      0.0      |  None  |\n",
      "|     yr_built     |  None |      0.0      |  None  |\n",
      "|   yr_renovated   |  None |      0.0      |  None  |\n",
      "+------------------+-------+---------------+--------+\n",
      "[18 rows x 4 columns]\n",
      "\n"
     ]
    }
   ],
   "source": [
    "model_all.get('coefficients').print_rows(num_rows=30, num_columns=50)"
   ]
  },
  {
   "cell_type": "markdown",
   "metadata": {},
   "source": [
    "# Selecting an L1 penalty"
   ]
  },
  {
   "cell_type": "markdown",
   "metadata": {},
   "source": [
    "To find a good L1 penalty, we will explore multiple values using a validation set. Let us do three way split into train, validation, and test sets:\n",
    "* Split our sales data into 2 sets: training and test\n",
    "* Further split our training data into two sets: train, validation\n",
    "\n",
    "Be *very* careful that you use seed = 1 to ensure you get the same answer!"
   ]
  },
  {
   "cell_type": "code",
   "execution_count": 94,
   "metadata": {
    "collapsed": true
   },
   "outputs": [],
   "source": [
    "(training_and_validation, testing) = sales.random_split(.9,seed=1) # initial train/test split\n",
    "(training, validation) = training_and_validation.random_split(0.5, seed=1) # split training into train and validate"
   ]
  },
  {
   "cell_type": "markdown",
   "metadata": {},
   "source": [
    "Next, we write a loop that does the following:\n",
    "* For `l1_penalty` in [10^1, 10^1.5, 10^2, 10^2.5, ..., 10^7] (to get this in Python, type `np.logspace(1, 7, num=13)`.)\n",
    "    * Fit a regression model with a given `l1_penalty` on TRAIN data. Specify `l1_penalty=l1_penalty` and `l2_penalty=0.` in the parameter list.\n",
    "    * Compute the RSS on VALIDATION data (here you will want to use `.predict()`) for that `l1_penalty`\n",
    "* Report which `l1_penalty` produced the lowest RSS on validation data.\n",
    "\n",
    "When you call `linear_regression.create()` make sure you set `validation_set = None`.\n",
    "\n",
    "Note: you can turn off the print out of `linear_regression.create()` with `verbose = False`"
   ]
  },
  {
   "cell_type": "code",
   "execution_count": 86,
   "metadata": {
    "collapsed": false
   },
   "outputs": [
    {
     "name": "stdout",
     "output_type": "stream",
     "text": [
      "6.25766285142e+14 10\n"
     ]
    }
   ],
   "source": [
    "import numpy as np\n",
    "from decimal import Decimal\n",
    "\n",
    "my_range = np.logspace(1, 7, num=13)\n",
    "min_err = 1e100000000000000\n",
    "min_l1_pen = 0\n",
    "\n",
    "for l1_penalty_new in my_range:\n",
    "    model = graphlab.linear_regression.create(training, target='price', features=all_features,\n",
    "                                             validation_set = None, \n",
    "                                             l2_penalty = 0., l1_penalty = l1_penalty_new, verbose = False)\n",
    "    prediction = model.predict(validation[all_features])\n",
    "    error = validation['price'] - prediction\n",
    "    RSS = sum(error ** 2)\n",
    "    if(RSS < min_err):\n",
    "        min_err = RSS\n",
    "        min_l1_pen = l1_penalty_new\n",
    "print min_err, Decimal(min_l1_pen)"
   ]
  },
  {
   "cell_type": "code",
   "execution_count": 95,
   "metadata": {
    "collapsed": false
   },
   "outputs": [
    {
     "name": "stdout",
     "output_type": "stream",
     "text": [
      "[18993.427212770577, 7936.967679031306, 936.993368193299, 25409.58893412067, 39.11513637970762, 1124.6502128077207, 0.0034836182229897442, 148.2583910114082, 21204.33546695013, 12915.524336072436, 601905.5945452718, 93312.85731187189, 6609.035712447216, 6206.939991880551, 43.28705341933558, 122.36782753411931, 9.433635393724884, 56.072003448822386]\n",
      "[18993.42853454867, 7936.967648008103, 936.9933489896162, 25409.588897696016, 39.11513636493602, 1124.6502112987225, 0.0034836054902507795, 148.25839014793078, 21204.335358875258, 12915.524239891067, 601905.5872644086, 93312.856828489, 6609.035659704598, 6206.939977681307, 43.287053366889275, 122.36782679765587, 9.433635310390496, 56.0720018382073]\n",
      "[18993.432714378352, 7936.967549904135, 936.9932882622419, 25409.588782511095, 39.11513631822403, 1124.6502065268521, 0.003483565225795815, 148.25838741737542, 21204.33501711258, 12915.523935738885, 601905.5642402971, 93312.85529989799, 6609.0354929178275, 6206.939932779336, 43.28705320103935, 122.367824468754, 9.433635046864019, 56.07199674499513]\n",
      "[18993.44593215921, 7936.967239672178, 936.993096225414, 25409.58841826447, 39.11513617050784, 1124.6501914368735, 0.0034834378984163776, 148.25837878260035, 21204.333936364306, 12915.522973925341, 601905.4914316691, 93312.8504660693, 6609.034965491728, 6206.939790786878, 43.28705267657596, 122.36781710412056, 9.433634213520069, 56.07198063884489]\n",
      "[18993.487730455774, 7936.966258632495, 936.9924889516104, 25409.587266415394, 39.11513570338814, 1124.6501437181694, 0.003483035253856436, 148.2583514770432, 21204.33051873776, 12915.519932403584, 601905.261190552, 93312.83518015945, 6609.033297623854, 6206.939341767248, 43.28705101807691, 122.36779381510247, 9.433631578254964, 56.071929706721924]\n",
      "[18993.619908268196, 7936.9631563128205, 936.9905685833276, 25409.58362394894, 39.115134226226104, 1124.6499928183816, 0.0034817619800262133, 148.25826512929444, 21204.319711254255, 12915.510314267756, 601904.5331042501, 93312.78684187091, 6609.028023362803, 6206.937921842571, 43.28704577344279, 122.36772016876472, 9.433623244815468, 56.071768645215776]\n",
      "[18994.037891230186, 7936.953345916133, 936.9844958453468, 25409.572105458166, 39.11512955502935, 1124.6495156313367, 0.0034777355344619084, 148.25799207372594, 21204.285534989085, 12915.47989905034, 601902.2306931004, 93312.63398277396, 6609.011344684198, 6206.933431646295, 43.28702918845256, 122.36748727858571, 9.433596892164756, 56.07125932399065]\n",
      "[18995.359669444282, 7936.922322717151, 936.9652921612235, 25409.535680791276, 39.11511478340776, 1124.6480066333702, 0.0034650027953006626, 148.25712859618002, 21204.17746014676, 12915.383717685565, 601894.9498295861, 93312.15059985527, 6608.958602070198, 6206.919232398579, 43.28697674210738, 122.36675081515841, 9.433513557764103, 56.06964870882015]\n",
      "[18999.539498973783, 7936.824218752496, 936.9045647826715, 25409.4204958861, 39.11506807144101, 1124.6432347630266, 0.0034247383405183306, 148.25439804054955, 21203.835697502618, 12915.07956551812, 601871.9257185865, 93310.62200891905, 6608.791815287704, 6206.874330436773, 43.28681089220907, 122.36442191341965, 9.433250031262506, 56.06455549667737]\n",
      "[19012.757281592978, 7936.513986751458, 936.7125279345136, 25409.056249204004, 39.114920355219994, 1124.6281447828126, 0.003297410944307965, 148.24576326477938, 21202.75494904007, 12914.117751835485, 601799.117080808, 93305.78817955709, 6608.264389128551, 6206.732337954499, 43.28628642873809, 122.35705727887941, 9.432416687225965, 56.04844934439051]\n",
      "[19054.555576410712, 7935.532947116086, 936.1052541559584, 25407.90440016528, 39.114453235557704, 1124.580426079912, 0.0028947664010812264, 148.21845770879176, 21199.337322637606, 12911.076230195722, 601568.8759734436, 93290.50227037004, 6606.5965213227455, 6206.283318341521, 43.284627929774054, 122.33376826175702, 9.429781422240257, 55.997517223545174]\n",
      "[19186.733398781642, 7932.430627195435, 934.1848857298562, 25404.26193344976, 39.11297607339063, 1124.4295262821345, 0.0016214924757809099, 148.13210995358193, 21188.5298383246, 12901.458093647534, 600840.7896167061, 93242.1639781475, 6601.322259883679, 6204.863393559833, 43.279383295216036, 122.26012191848346, 9.421447982115405, 55.83645570533142]\n",
      "[19604.716350778916, 7922.62023075209, 928.1121478887878, 25392.743442957195, 39.1083048767247, 1123.9523392487874, -0.000823987151992027, 147.85905439120916, 21154.35357398785, 12871.042876971873, 598538.3785220212, 93089.30488487988, 6584.643581673066, 6200.373197389087, 43.26279830542418, 122.02723174513142, 9.395095332017366, 55.32713449222257]\n"
     ]
    }
   ],
   "source": [
    "import numpy as np\n",
    "from decimal import Decimal\n",
    "\n",
    "my_range = np.logspace(1, 7, num=13)\n",
    "\n",
    "for l1_value in my_range:\n",
    "    model = graphlab.linear_regression.create(training, target='price', features=all_features,\n",
    "                                             validation_set = None, \n",
    "                                             l1_penalty = l1_value, l2_penalty = 0., verbose = False)\n",
    "    print(model.get('coefficients')['value'])"
   ]
  },
  {
   "cell_type": "code",
   "execution_count": 73,
   "metadata": {
    "collapsed": false
   },
   "outputs": [
    {
     "name": "stdout",
     "output_type": "stream",
     "text": [
      "10.0\n"
     ]
    }
   ],
   "source": [
    "'%.2E' % Decimal(100000)\n",
    "print(1.00E+01)"
   ]
  },
  {
   "cell_type": "code",
   "execution_count": 30,
   "metadata": {
    "collapsed": false
   },
   "outputs": [
    {
     "ename": "SyntaxError",
     "evalue": "invalid syntax (<ipython-input-30-751d06d3a1f4>, line 1)",
     "output_type": "error",
     "traceback": [
      "\u001b[0;36m  File \u001b[0;32m\"<ipython-input-30-751d06d3a1f4>\"\u001b[0;36m, line \u001b[0;32m1\u001b[0m\n\u001b[0;31m    6.25766285142e+14 10.0\u001b[0m\n\u001b[0m                         ^\u001b[0m\n\u001b[0;31mSyntaxError\u001b[0m\u001b[0;31m:\u001b[0m invalid syntax\n"
     ]
    }
   ],
   "source": [
    "6.25766285142e+14 10.0"
   ]
  },
  {
   "cell_type": "code",
   "execution_count": 45,
   "metadata": {
    "collapsed": false
   },
   "outputs": [
    {
     "name": "stdout",
     "output_type": "stream",
     "text": [
      "10000000.0\n",
      "10000000\n"
     ]
    }
   ],
   "source": [
    "print 1e7\n",
    "print 10**7"
   ]
  },
  {
   "cell_type": "code",
   "execution_count": 97,
   "metadata": {
    "collapsed": false
   },
   "outputs": [
    {
     "data": {
      "text/plain": [
       "18"
      ]
     },
     "execution_count": 97,
     "metadata": {},
     "output_type": "execute_result"
    }
   ],
   "source": [
    "weights = graphlab.linear_regression.create(sales, target='price', features=all_features,\n",
    "                                             validation_set = None, \n",
    "                                             l2_penalty = 0., l1_penalty = 10, verbose = False)\n",
    "weights.get('coefficients')['value'].nnz()"
   ]
  },
  {
   "cell_type": "markdown",
   "metadata": {},
   "source": [
    "# Limit the number of nonzero weights\n",
    "\n",
    "What if we absolutely wanted to limit ourselves to, say, 7 features? This may be important if we want to derive \"a rule of thumb\" --- an interpretable model that has only a few features in them."
   ]
  },
  {
   "cell_type": "markdown",
   "metadata": {},
   "source": [
    "In this section, you are going to implement a simple, two phase procedure to achive this goal:\n",
    "1. Explore a large range of `l1_penalty` values to find a narrow region of `l1_penalty` values where models are likely to have the desired number of non-zero weights.\n",
    "2. Further explore the narrow region you found to find a good value for `l1_penalty` that achieves the desired sparsity.  Here, we will again use a validation set to choose the best value for `l1_penalty`."
   ]
  },
  {
   "cell_type": "code",
   "execution_count": 46,
   "metadata": {
    "collapsed": true
   },
   "outputs": [],
   "source": [
    "max_nonzeros = 7"
   ]
  },
  {
   "cell_type": "markdown",
   "metadata": {},
   "source": [
    "## Exploring the larger range of values to find a narrow range with the desired sparsity\n",
    "\n",
    "Let's define a wide range of possible `l1_penalty_values`:"
   ]
  },
  {
   "cell_type": "code",
   "execution_count": 48,
   "metadata": {
    "collapsed": false
   },
   "outputs": [],
   "source": [
    "l1_penalty_values = np.logspace(8, 10, num=20)"
   ]
  },
  {
   "cell_type": "markdown",
   "metadata": {},
   "source": [
    "Now, implement a loop that search through this space of possible `l1_penalty` values:\n",
    "\n",
    "* For `l1_penalty` in `np.logspace(8, 10, num=20)`:\n",
    "    * Fit a regression model with a given `l1_penalty` on TRAIN data. Specify `l1_penalty=l1_penalty` and `l2_penalty=0.` in the parameter list. When you call `linear_regression.create()` make sure you set `validation_set = None`\n",
    "    * Extract the weights of the model and count the number of nonzeros. Save the number of nonzeros to a list.\n",
    "        * *Hint: `model['coefficients']['value']` gives you an SArray with the parameters you learned.  If you call the method `.nnz()` on it, you will find the number of non-zero parameters!* "
   ]
  },
  {
   "cell_type": "code",
   "execution_count": 55,
   "metadata": {
    "collapsed": false
   },
   "outputs": [
    {
     "name": "stdout",
     "output_type": "stream",
     "text": [
      "[18, 18, 18, 18, 17, 17, 17, 17, 17, 16, 15, 15, 13, 12, 10, 6, 5, 3, 1, 1]\n"
     ]
    }
   ],
   "source": [
    "import numpy as np\n",
    "from decimal import Decimal\n",
    "\n",
    "my_range = l1_penalty_values\n",
    "min_err = 1e100000000000000\n",
    "min_l1_pen = 0\n",
    "nonzeros = []\n",
    "\n",
    "for l1_penalty_new in my_range:\n",
    "    model = graphlab.linear_regression.create(training, target='price', features=all_features,\n",
    "                                             validation_set = None, \n",
    "                                             l2_penalty = 0., l1_penalty = l1_penalty_new, verbose = False)\n",
    "    \n",
    "    nonzeros.append(model.get('coefficients')['value'].nnz())\n",
    "print(nonzeros)"
   ]
  },
  {
   "cell_type": "markdown",
   "metadata": {},
   "source": [
    "Out of this large range, we want to find the two ends of our desired narrow range of `l1_penalty`.  At one end, we will have `l1_penalty` values that have too few non-zeros, and at the other end, we will have an `l1_penalty` that has too many non-zeros.  \n",
    "\n",
    "More formally, find:\n",
    "* The largest `l1_penalty` that has more non-zeros than `max_nonzeros` (if we pick a penalty smaller than this value, we will definitely have too many non-zero weights)\n",
    "    * Store this value in the variable `l1_penalty_min` (we will use it later)\n",
    "* The smallest `l1_penalty` that has fewer non-zeros than `max_nonzeros` (if we pick a penalty larger than this value, we will definitely have too few non-zero weights)\n",
    "    * Store this value in the variable `l1_penalty_max` (we will use it later)\n",
    "\n",
    "\n",
    "*Hint: there are many ways to do this, e.g.:*\n",
    "* Programmatically within the loop above\n",
    "* Creating a list with the number of non-zeros for each value of `l1_penalty` and inspecting it to find the appropriate boundaries."
   ]
  },
  {
   "cell_type": "code",
   "execution_count": 56,
   "metadata": {
    "collapsed": false
   },
   "outputs": [
    {
     "name": "stdout",
     "output_type": "stream",
     "text": [
      "(2976351441.6313133, 4832930238.5717525)\n"
     ]
    }
   ],
   "source": [
    "l1_penalty_min = l1_penalty_values[14]\n",
    "l1_penalty_max = l1_penalty_values[16]\n",
    "print(l1_penalty_min, l1_penalty_max)"
   ]
  },
  {
   "cell_type": "markdown",
   "metadata": {},
   "source": [
    "## Exploring the narrow range of values to find the solution with the right number of non-zeros that has lowest RSS on the validation set \n",
    "\n",
    "We will now explore the narrow region of `l1_penalty` values we found:"
   ]
  },
  {
   "cell_type": "code",
   "execution_count": 60,
   "metadata": {
    "collapsed": false
   },
   "outputs": [],
   "source": [
    "l1_penalty_values = np.linspace(l1_penalty_min,l1_penalty_max,20)"
   ]
  },
  {
   "cell_type": "markdown",
   "metadata": {},
   "source": [
    "* For `l1_penalty` in `np.linspace(l1_penalty_min,l1_penalty_max,20)`:\n",
    "    * Fit a regression model with a given `l1_penalty` on TRAIN data. Specify `l1_penalty=l1_penalty` and `l2_penalty=0.` in the parameter list. When you call `linear_regression.create()` make sure you set `validation_set = None`\n",
    "    * Measure the RSS of the learned model on the VALIDATION set\n",
    "\n",
    "Find the model that the lowest RSS on the VALIDATION set and has sparsity *equal* to `max_nonzeros`."
   ]
  },
  {
   "cell_type": "code",
   "execution_count": 98,
   "metadata": {
    "collapsed": false
   },
   "outputs": [
    {
     "name": "stdout",
     "output_type": "stream",
     "text": [
      "1048315056620935.625 3464924809.24721813201904296875\n"
     ]
    }
   ],
   "source": [
    "import numpy as np\n",
    "from decimal import Decimal\n",
    "\n",
    "my_range = l1_penalty_values\n",
    "min_err = 1e100000000000000\n",
    "min_l1_pen = 0\n",
    "\n",
    "for l1_penalty_new in my_range:\n",
    "    model = graphlab.linear_regression.create(training, target='price', features=all_features,\n",
    "                                             validation_set = None, \n",
    "                                             l2_penalty = 0., l1_penalty = l1_penalty_new, verbose = False)\n",
    "    prediction = model.predict(validation[all_features])\n",
    "    error = validation['price'] - prediction\n",
    "    RSS = sum(error ** 2)\n",
    "    non_zero = model.get('coefficients')['value'].nnz()\n",
    "    if(RSS < min_err and non_zero == max_nonzeros):\n",
    "        min_err = RSS\n",
    "        min_l1_pen = l1_penalty_new\n",
    "        features = model.get('coefficients')['value', 'name']\n",
    "print Decimal(min_err), Decimal(min_l1_pen)"
   ]
  },
  {
   "cell_type": "code",
   "execution_count": 69,
   "metadata": {
    "collapsed": false
   },
   "outputs": [
    {
     "name": "stdout",
     "output_type": "stream",
     "text": [
      "+---------------+------------------+\n",
      "|     value     |       name       |\n",
      "+---------------+------------------+\n",
      "| 223113.283157 |   (intercept)    |\n",
      "|  603.81178122 |     bedrooms     |\n",
      "|      0.0      | bedrooms_square  |\n",
      "| 15791.8297397 |    bathrooms     |\n",
      "|  32.338436177 |   sqft_living    |\n",
      "| 686.175362908 | sqft_living_sqrt |\n",
      "|      0.0      |     sqft_lot     |\n",
      "|      0.0      |  sqft_lot_sqrt   |\n",
      "|      0.0      |      floors      |\n",
      "|      0.0      |  floors_square   |\n",
      "|      0.0      |    waterfront    |\n",
      "|      0.0      |       view       |\n",
      "|      0.0      |    condition     |\n",
      "| 2873.14181982 |      grade       |\n",
      "| 29.9057289304 |    sqft_above    |\n",
      "|      0.0      |  sqft_basement   |\n",
      "|      0.0      |     yr_built     |\n",
      "|      0.0      |   yr_renovated   |\n",
      "+---------------+------------------+\n",
      "[18 rows x 2 columns]\n",
      "\n"
     ]
    }
   ],
   "source": [
    "features.print_rows(num_rows=20, num_columns=2)"
   ]
  }
 ],
 "metadata": {
  "anaconda-cloud": {},
  "kernelspec": {
   "display_name": "Python [conda env:gl-env]",
   "language": "python",
   "name": "conda-env-gl-env-py"
  },
  "language_info": {
   "codemirror_mode": {
    "name": "ipython",
    "version": 2
   },
   "file_extension": ".py",
   "mimetype": "text/x-python",
   "name": "python",
   "nbconvert_exporter": "python",
   "pygments_lexer": "ipython2",
   "version": "2.7.11"
  }
 },
 "nbformat": 4,
 "nbformat_minor": 0
}
